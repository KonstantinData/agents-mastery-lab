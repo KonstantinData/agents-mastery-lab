{
 "cells": [
  {
   "cell_type": "markdown",
   "id": "1ef32438",
   "metadata": {},
   "source": [
    "# M2 - Agentic AI - SQL Generation\n",
    "\n",
    "## 1. Introduction\n",
    "\n",
    "### 1.1. Lab overview\n",
    "\n",
    "In this lab, you will explore how **reflection patterns** can make agents reason more effectively and produce better SQL queries. You’ll see how an agent can spot issues in its own outputs, refine them, and improve its response before giving a final answer.\n",
    "\n",
    "### 🎯 1.1 Learning outcome\n",
    "\n",
    "You will practice applying reflection patterns to strengthen agent reasoning and outputs.\n",
    "\n",
    "To do this, you will build **evaluation loops** where the agent:\n",
    "\n",
    "* Reviews its own intermediate results (such as draft SQL or tool outputs).\n",
    "* Identifies errors or gaps.\n",
    "* Checks its responses and tool use.\n",
    "* Refines the output before submitting the final answer."
   ]
  },
  {
   "cell_type": "markdown",
   "id": "b5c1fe8b",
   "metadata": {},
   "source": [
    "## 2. Setup: Initialize Environment and Client\n",
    "\n",
    "In this step, you will prepare your workspace so you can start coding right away. You will:\n",
    "\n",
    "1. **Install the required Python libraries**\n",
    "   Make sure all the dependencies are available so the code runs smoothly.\n",
    "\n",
    "2. **Load environment variables from the `.env` file**\n",
    "   These variables configure your environment (e.g., API keys or database settings).\n",
    "\n",
    "3. **Import the `utils.py` module**\n",
    "   This file contains helper functions that you will use to:\n",
    "\n",
    "   * Create a sample products database.\n",
    "   * Retrieve the database schema.\n",
    "   * Run SQL queries.\n",
    "\n",
    "**Note:** If you want to explore the contents of `utils.py`, go to the top menu and select **File > Open**."
   ]
  },
  {
   "cell_type": "code",
   "execution_count": null,
   "id": "7683f664",
   "metadata": {
    "height": 132
   },
   "outputs": [],
   "source": [
    "import json\n",
    "import utils\n",
    "import pandas as pd\n",
    "import aisuite as ai\n",
    "from dotenv import load_dotenv\n",
    "\n",
    "_ = load_dotenv()"
   ]
  },
  {
   "cell_type": "markdown",
   "id": "002c19c0",
   "metadata": {},
   "source": [
    "### 2.1 Getting started with AISuite\n",
    "Now, initialize the `aisuite client`. This client gives you a single, unified way to connect and interact with different LLMs — so you don’t have to worry about each model having its own setup."
   ]
  },
  {
   "cell_type": "code",
   "execution_count": null,
   "id": "9e675745",
   "metadata": {
    "height": 30
   },
   "outputs": [],
   "source": [
    "client = ai.Client()"
   ]
  },
  {
   "cell_type": "markdown",
   "id": "9f70a12d",
   "metadata": {},
   "source": [
    "### 2.2 Set Up the Database\n",
    "\n",
    "In this step, you will create a local SQLite database called **`products.db`**.\n",
    "The database will be automatically filled with randomly generated product data.\n",
    "\n",
    "You will use this data later in the lab to practice and test your SQL queries."
   ]
  },
  {
   "cell_type": "code",
   "execution_count": null,
   "id": "34a6b55f",
   "metadata": {
    "height": 30
   },
   "outputs": [],
   "source": [
    "utils.create_transactions_db()"
   ]
  },
  {
   "cell_type": "markdown",
   "id": "580d7915",
   "metadata": {},
   "source": [
    "You can inspect the table schema by executing the cell below."
   ]
  },
  {
   "cell_type": "code",
   "execution_count": null,
   "id": "802aa41c",
   "metadata": {
    "height": 30
   },
   "outputs": [],
   "source": [
    "utils.print_html(utils.get_schema('products.db'))"
   ]
  },
  {
   "cell_type": "markdown",
   "id": "3f061599",
   "metadata": {},
   "source": [
    "## 3. Build a SQL generator"
   ]
  },
  {
   "cell_type": "markdown",
   "id": "efc20280",
   "metadata": {},
   "source": [
    "### 3.1 Use an LLM to Query a Database\n",
    "\n",
    "In this step, you will use a function that turns your natural-language questions into SQL queries.\n",
    "\n",
    "You provide your question and the database schema as input. The LLM then generates the SQL query that answers your question.\n",
    "\n",
    "This way, **you** can focus on asking questions while the model takes care of writing the query.\n"
   ]
  },
  {
   "cell_type": "code",
   "execution_count": null,
   "id": "b7682e6b",
   "metadata": {
    "height": 319
   },
   "outputs": [],
   "source": [
    "def generate_sql(question: str, schema: str, model: str) -> str:\n",
    "    prompt = f\"\"\"\n",
    "    You are a SQL assistant. Given the schema and the user's question, write a SQL query for SQLite.\n",
    "\n",
    "    Schema:\n",
    "    {schema}\n",
    "\n",
    "    User question:\n",
    "    {question}\n",
    "\n",
    "    Respond with the SQL only.\n",
    "    \"\"\"\n",
    "    response = client.chat.completions.create(\n",
    "        model=model,\n",
    "        messages=[{\"role\": \"user\", \"content\": prompt}],\n",
    "        temperature=0,\n",
    "    )\n",
    "    return response.choices[0].message.content.strip()"
   ]
  },
  {
   "cell_type": "markdown",
   "id": "27f3b5b0",
   "metadata": {},
   "source": [
    "### 3.2 Reflect with External Feedback\n",
    "\n",
    "Now, you will add a layer of quality control to **your** SQL queries.\n",
    "When you run this step, you will get:\n",
    "\n",
    "* A short evaluation of your query.\n",
    "* Concrete suggestions for improvement.\n",
    "* A refined SQL statement that better matches your question."
   ]
  },
  {
   "cell_type": "code",
   "execution_count": null,
   "id": "8a513b5e",
   "metadata": {
    "height": 982
   },
   "outputs": [],
   "source": [
    "def evaluate_and_refine_sql(\n",
    "    question: str,\n",
    "    sql_query: str,\n",
    "    df: pd.DataFrame,\n",
    "    schema: str,\n",
    "    model: str,\n",
    ") -> tuple[str, str]:\n",
    "    \"\"\"\n",
    "    Evaluate whether the SQL result answers the user's question and,\n",
    "    if necessary, propose a refined version of the query.\n",
    "    Returns (feedback, refined_sql).\n",
    "    \"\"\"\n",
    "    prompt = f\"\"\"\n",
    "    You are a SQL reviewer and refiner.\n",
    "\n",
    "    User asked:\n",
    "    {question}\n",
    "\n",
    "    Original SQL:\n",
    "    {sql_query}\n",
    "\n",
    "    SQL Output:\n",
    "    {df.to_markdown(index=False)}\n",
    "\n",
    "    Table Schema:\n",
    "    {schema}\n",
    "\n",
    "    Step 1: Briefly evaluate if the SQL output answers the user's question.\n",
    "    Step 2: If the SQL could be improved, provide a refined SQL query.\n",
    "    If the original SQL is already correct, return it unchanged.\n",
    "\n",
    "    Return a strict JSON object with two fields:\n",
    "    - \"feedback\": brief evaluation and suggestions\n",
    "    - \"refined_sql\": the final SQL to run\n",
    "    \"\"\"\n",
    "\n",
    "    response = client.chat.completions.create(\n",
    "        model=model,\n",
    "        messages=[{\"role\": \"user\", \"content\": prompt}],\n",
    "        temperature=0,\n",
    "    )\n",
    "\n",
    "    \n",
    "    content = response.choices[0].message.content\n",
    "    try:\n",
    "        obj = json.loads(content)\n",
    "        feedback = str(obj.get(\"feedback\", \"\")).strip()\n",
    "        refined_sql = str(obj.get(\"refined_sql\", sql_query)).strip()\n",
    "        if not refined_sql:\n",
    "            refined_sql = sql_query\n",
    "    except Exception:\n",
    "        # Fallback if the model does not return valid JSON:\n",
    "        # use the raw content as feedback and keep the original SQL\n",
    "        feedback = content.strip()\n",
    "        refined_sql = sql_query\n",
    "\n",
    "    return feedback, refined_sql"
   ]
  },
  {
   "cell_type": "markdown",
   "id": "b6c826b1",
   "metadata": {},
   "source": [
    "### 3.3 Automate a Comprehensive SQL Workflow\n",
    "\n",
    "In this step, **you** will use a function that automates the entire workflow of creating, running, and improving SQL queries with an LLM.\n",
    "\n",
    "The workflow walks you through key steps:\n",
    "\n",
    "* Extracting the database schema.\n",
    "* Generating a SQL query from **your** question.\n",
    "* Executing the query.\n",
    "* Evaluating its effectiveness.\n",
    "\n",
    "If needed, the function will refine the query to better match **your** intent and run it again to ensure accuracy.\n",
    "\n",
    "At the end, **you** will see:\n",
    "\n",
    "* Both the initial and refined queries.\n",
    "* Their results.\n",
    "* Feedback from the LLM.\n",
    "\n",
    "This makes it easier for **you** to work with SQL queries in a smoother, more accurate, and fully automated way.\n"
   ]
  },
  {
   "cell_type": "code",
   "execution_count": null,
   "id": "edcdb3c1",
   "metadata": {
    "height": 642
   },
   "outputs": [],
   "source": [
    "def run_sql_workflow(\n",
    "    db_path: str,\n",
    "    question: str,\n",
    "    model_generation: str = \"openai:gpt-4.1\",\n",
    "    model_evaluation: str = \"openai:gpt-4.1\",\n",
    "):\n",
    "    \"\"\"\n",
    "    End-to-end workflow to generate, execute, evaluate, and refine SQL queries.\n",
    "    \n",
    "    Steps:\n",
    "    1. Extract the database schema.\n",
    "    2. Generate a candidate SQL query from the user question.\n",
    "    3. Execute the SQL query and show the initial result.\n",
    "    4. Evaluate and refine the SQL query (if needed).\n",
    "    5. Execute the refined query.\n",
    "    \"\"\"\n",
    "    schema = utils.get_schema(db_path)\n",
    "    utils.print_html(\"📘 Get schema:\\n\" + schema)\n",
    "\n",
    "    sql = generate_sql(question, schema, model_generation)\n",
    "    utils.print_html(\"🧠 Generate SQL (V1):\\n\" + sql)\n",
    "\n",
    "    df = utils.execute_sql(sql, db_path)\n",
    "    utils.print_html(\"📊 RExecute V1 query → Output:\\n\" + df.to_html())\n",
    "\n",
    "    feedback, refined_sql = evaluate_and_refine_sql(\n",
    "        question=question,\n",
    "        sql_query=sql,\n",
    "        df=df,\n",
    "        schema=schema,\n",
    "        model=model_evaluation,\n",
    "    )\n",
    "    utils.print_html(\"📝 Reflect on V1 SQL/output:\\n\" + feedback)\n",
    "    utils.print_html(\"🔁 Write V2 query:\\n\" + refined_sql)\n",
    "\n",
    "    refined_df = utils.execute_sql(refined_sql, db_path)\n",
    "    utils.print_html(\"✅ Execute V2 query → Final answer:\\n\" + refined_df.to_html())"
   ]
  },
  {
   "cell_type": "markdown",
   "id": "521c8033",
   "metadata": {},
   "source": [
    "### 3.4 Run the SQL Workflow\n",
    "\n",
    "Now it’s time for **you** to execute the complete SQL processing pipeline. This pipeline includes:\n",
    "\n",
    "1. **Generate a SQL query** – The LLM creates a query from **your** question.\n",
    "2. **Execute the query** – The query runs on the database.\n",
    "3. **Evaluate the result** – The output is checked to confirm it answers **your** question.\n",
    "4. **Refine the SQL with feedback** – If needed, the query is improved using feedback.\n",
    "5. **Display the final output** – You see the refined query and its results.\n",
    "\n",
    "#### Model Options\n",
    "\n",
    "You can try different combinations of the following OpenAI models, each with different capabilities and performance:\n",
    "\n",
    "* `openai:gpt-4o`\n",
    "* `openai:gpt-4.1`\n",
    "* `openai:gpt-4.1-mini`\n",
    "* `openai:gpt-3.5-turbo`\n",
    "\n",
    "💡 In this workflow, `openai:gpt-4.1` often gives the best results for self-reflection tasks.\n",
    "\n",
    "**Important:** Because Large Language Models (LLMs) are stochastic, every run may return slightly different results.\n",
    "You are encouraged to experiment with different models and combinations to find the setup that works best for **you**."
   ]
  },
  {
   "cell_type": "code",
   "execution_count": null,
   "id": "d147ac2c",
   "metadata": {
    "height": 115
   },
   "outputs": [],
   "source": [
    "run_sql_workflow(\n",
    "    \"products.db\", \n",
    "    \"Which color of product has the highest total sales?\",\n",
    "    model_generation=\"openai:gpt-4.1\",\n",
    "    model_evaluation=\"openai:gpt-4.1\"\n",
    ")"
   ]
  },
  {
   "cell_type": "markdown",
   "id": "c04bd0ff",
   "metadata": {},
   "source": [
    "## 4. Final Takeaways\n",
    "\n",
    "By completing this lab, **you** learned how to:\n",
    "\n",
    "* Use an LLM to turn natural-language questions into SQL queries.\n",
    "* Apply **reflection patterns** (external and self-feedback) to evaluate and refine your queries.\n",
    "* Automate a complete SQL workflow, from schema extraction to query refinement.\n",
    "* Experiment with different LLM models to compare performance and accuracy.\n",
    "\n",
    "The key insight is that reflection makes **your** agent more reliable: instead of stopping at the first attempt, the agent can review, improve, and deliver results that better match **your** intent.\n"
   ]
  },
  {
   "cell_type": "markdown",
   "id": "a4d440aa",
   "metadata": {},
   "source": [
    "<div style=\"border:1px solid #22c55e; border-left:6px solid #16a34a; background:#dcfce7; border-radius:6px; padding:14px 16px; color:#064e3b; font-family:system-ui,-apple-system,Segoe UI,Roboto,Ubuntu,Cantarell,Noto Sans,sans-serif;\">\n",
    "\n",
    "🎉 <strong>Congratulations!</strong>  \n",
    "\n",
    "You have completed the lab on building an **agentic SQL workflow**.  \n",
    "Along the way, **you** practiced how planning, reflection, execution, and validation come together into a reliable pipeline.  \n",
    "\n",
    "You also saw how reusing context makes tool usage more efficient, how validations improve safety, and how separating responsibilities across roles increases transparency and auditability.  \n",
    "\n",
    "With these skills, **you** are ready to design your own agentic pipelines — pipelines that query data automatically while giving you confidence in their safety, explainability, and adaptability. 🌟  \n",
    "\n",
    "</div>\n"
   ]
  }
 ],
 "metadata": {
  "kernelspec": {
   "display_name": "Python 3 (ipykernel)",
   "language": "python",
   "name": "python3"
  },
  "language_info": {
   "codemirror_mode": {
    "name": "ipython",
    "version": 3
   },
   "file_extension": ".py",
   "mimetype": "text/x-python",
   "name": "python",
   "nbconvert_exporter": "python",
   "pygments_lexer": "ipython3",
   "version": "3.11.13"
  }
 },
 "nbformat": 4,
 "nbformat_minor": 5
}
