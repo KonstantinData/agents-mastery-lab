{
 "cells": [
  {
   "cell_type": "markdown",
   "id": "38ae026d",
   "metadata": {},
   "source": [
    "# M2 Agentic AI - Chart Generation\n",
    "\n",
    "## 1. Introduction\n",
    "\n",
    "### 1.1. Lab overview\n",
    "\n",
    "In this ungraded lab, you will practice applying **reflection patterns** to enhance how agents reason and generate visualizations. You will analyze how an agent can detect issues in its own chart outputs—such as unclear labels, misleading scales, or poor aesthetics—and refine its plotting code before finalizing an answer.\n",
    "\n",
    "### 🎯 1.2. Learning outcome\n",
    "\n",
    "Apply reflection patterns to improve agent reasoning and chart outputs.\n",
    "\n",
    "To achieve this, you will implement evaluation loops where an agent reviews its own (or external) generated charts, identifies potential errors or gaps, and revises its plotting code before producing the final visualization.\n",
    "\n",
    "This process involves the following steps:\n",
    "\n",
    "* **Generate an Initial Version (V1):**\n",
    "Use a Large Language Model (LLM) to create the first version of the plotting code.\n",
    "\n",
    "2. **Execute and Render:** \n",
    "Run the generated code and display the resulting chart.\n",
    "\n",
    "3. **Reflect on the Output:**\n",
    "Evaluate both the code and the chart using an LLM to detect areas for improvement (e.g., clarity, accuracy, design).\n",
    "\n",
    "4. **Generate and Execute Improved Version (V2):**\n",
    "Produce a refined version of the plotting code based on reflection insights and render the enhanced chart.\n",
    "\n",
    "Through this reflective workflow, you will experience how agents can progressively improve visualization quality by combining code generation with intelligent feedback."
   ]
  },
  {
   "cell_type": "markdown",
   "id": "ffbdf292",
   "metadata": {},
   "source": [
    "## 2. Setup: Initialize environment and client"
   ]
  },
  {
   "cell_type": "code",
   "execution_count": null,
   "id": "c19a3b0c",
   "metadata": {
    "height": 80
   },
   "outputs": [],
   "source": [
    "import re\n",
    "import json\n",
    "import utils"
   ]
  },
  {
   "cell_type": "markdown",
   "id": "57776368",
   "metadata": {},
   "source": [
    "### 2.1 Loading the dataset"
   ]
  },
  {
   "cell_type": "markdown",
   "id": "1203e6fa8c728303",
   "metadata": {},
   "source": [
    "Before writing any code, you'll preview a handful of sample rows to build intuition — this simple step often reveals the most important questions you’ll answer with a chart.\n",
    "\n",
    "**Agentic mindset:** Explore the data → Draft a solution → Reflect and improve.\n",
    "\n",
    "If you'd like to take a look at the data, open File > Open from the top menu."
   ]
  },
  {
   "cell_type": "code",
   "execution_count": null,
   "id": "96a2bbd81cbb24d9",
   "metadata": {
    "height": 97
   },
   "outputs": [],
   "source": [
    "# Use this utils.py function to load the data into a dataframe\n",
    "df = utils.load_and_prepare_data('coffee_sales.csv')\n",
    "\n",
    "# Grab a random sample to display\n",
    "utils.print_html(df.sample(n=5), title=\"Random Sample of Coffee Sales Data\")"
   ]
  },
  {
   "cell_type": "markdown",
   "id": "838a24112871c226",
   "metadata": {},
   "source": [
    "We are going to use this dataset to create charts as part of the agentic workflow. Let’s begin building the pipeline step by step!"
   ]
  },
  {
   "cell_type": "markdown",
   "id": "5163dff8",
   "metadata": {},
   "source": [
    "## 3. Building the pipeline"
   ]
  },
  {
   "cell_type": "markdown",
   "id": "47a92d89",
   "metadata": {},
   "source": [
    "### 3.1. Step 1 — Generate (V1)\n",
    "\n",
    "**LLM Role:** _Data Visualization Expert_ using **Matplotlib** (no Seaborn)\n",
    "\n",
    "**Task:** Write Python code that generates a chart based on user instructions and the provided schema/description\n",
    "\n",
    "**Guardrails:**\n",
    "\n",
    "- Assume a DataFrame named `df` already exists.\n",
    "- Always include clear titles, axis labels, and legends so the chart is easy to interpret.\n",
    "- Instead of displaying with `plt.show()`, save the chart image to the specified file path.\n",
    "\n",
    "**Why Reflection?**  \n",
    "Just like a human drafts a chart, reviews it, and then makes improvements, reflection allows the agent to:\n",
    "* Create an initial version of the chart.\n",
    "* Critically review the output (checking readability, accuracy, and style).\n",
    "* Revise the code to produce a clearer, more effective visualization.\n",
    "\n",
    "Reflection turns chart-making into an iterative process of continuous improvement, ensuring that each version is more informative and polished than the last."
   ]
  },
  {
   "cell_type": "code",
   "execution_count": null,
   "id": "17222765",
   "metadata": {
    "height": 709
   },
   "outputs": [],
   "source": [
    "def generate_chart_code(instruction: str, model: str, out_path_v1: str) -> str:\n",
    "    \"\"\"Generate Python code to make a plot with matplotlib using tag-based wrapping.\"\"\"\n",
    "\n",
    "    prompt = f\"\"\"\n",
    "    You are a data visualization expert.\n",
    "\n",
    "    Return your answer *strictly* in this format:\n",
    "\n",
    "    <execute_python>\n",
    "    # valid python code here\n",
    "    </execute_python>\n",
    "\n",
    "    Do not add explanations, only the tags and the code.\n",
    "\n",
    "    The code should create a visualization from a DataFrame 'df' with these columns:\n",
    "    - date (M/D/YY)\n",
    "    - time (HH:MM)\n",
    "    - cash_type (card or cash)\n",
    "    - card (string)\n",
    "    - price (number)\n",
    "    - coffee_name (string)\n",
    "    - quarter (1-4)\n",
    "    - month (1-12)\n",
    "    - year (YYYY)\n",
    "\n",
    "    User instruction: {instruction}\n",
    "\n",
    "    Requirements for the code:\n",
    "    1. Assume the DataFrame is already loaded as 'df'.\n",
    "    2. Use matplotlib for plotting.\n",
    "    3. Add clear title, axis labels, and legend if needed.\n",
    "    4. Save the figure as '{out_path_v1}' with dpi=300.\n",
    "    5. Do not call plt.show().\n",
    "    6. Close all plots with plt.close().\n",
    "    7. Add all necessary import python statements\n",
    "\n",
    "    Return ONLY the code wrapped in <execute_python> tags.\n",
    "    \"\"\"\n",
    "\n",
    "    response = utils.get_response(model, prompt)\n",
    "    return response"
   ]
  },
  {
   "cell_type": "markdown",
   "id": "a28faa498aaf2706",
   "metadata": {},
   "source": [
    "Now, try out the function and analyze the response!"
   ]
  },
  {
   "cell_type": "code",
   "execution_count": null,
   "id": "28e5109f",
   "metadata": {
    "height": 148
   },
   "outputs": [],
   "source": [
    "# Generate initial code\n",
    "code_v1 = generate_chart_code(\n",
    "    instruction=\"Give me a breakdown of drink sales by quarter.\", \n",
    "    model=\"gpt-4.1\", \n",
    "    out_path_v1=\"chart_v1.png\"\n",
    ")\n",
    "\n",
    "utils.print_html(code_v1, title=\"Generated Code Output (V1)\")"
   ]
  },
  {
   "cell_type": "markdown",
   "id": "9d5a7187",
   "metadata": {},
   "source": [
    "Great! You've generated some python code to create a chart! "
   ]
  },
  {
   "cell_type": "markdown",
   "id": "c15c3c875d025c4f",
   "metadata": {},
   "source": [
    "### 3.2. Step 2 — Execute and Render\n",
    "\n",
    "In this step, the `<execute_python>` tags are essential because now it’s time to run the code you generated in Step 1 and see the chart come to life.\n",
    "\n",
    "Here's how it works:\n",
    "\n",
    "1. **Extract the code:**  \n",
    "   A regex pattern is used to grab the code that’s wrapped inside the `<execute_python>` tags.\n",
    "\n",
    "2. **Execute the code:**\n",
    "   The extracted code is run in a predefined global context where the DataFrame `df` is already available. This means your code can directly use df without needing to reload the dataset.\n",
    "\n",
    "3. **Generate the chart::**\n",
    "   If the code executes successfully, it will create a chart and save it as `chart_v1.png`.\n",
    "\n",
    "4. **View the chart in the notebook:**\n",
    "   The saved chart is then displayed inline using `utils.print_html`, making it easy for you to review the results.\n",
    "\n",
    "By completing this step, you’ll have your first draft visualization (V1) ready — a big milestone in the reflection workflow!"
   ]
  },
  {
   "cell_type": "code",
   "execution_count": null,
   "id": "c2e2c15f",
   "metadata": {
    "height": 233
   },
   "outputs": [],
   "source": [
    "# Get the code within the <execute_python> tags\n",
    "match = re.search(r\"<execute_python>([\\s\\S]*?)</execute_python>\", code_v1)\n",
    "if match:\n",
    "    initial_code = match.group(1).strip()\n",
    "    exec_globals = {\"df\": df}\n",
    "    exec(initial_code, exec_globals)\n",
    "\n",
    "# If code run successfully, the file chart_v1.png should have been generated\n",
    "utils.print_html(\n",
    "    content=\"chart_v1.png\",\n",
    "    title=\"Generated Chart (V1)\",\n",
    "    is_image=True\n",
    ")"
   ]
  },
  {
   "cell_type": "markdown",
   "id": "ab1c8daa2c1615aa",
   "metadata": {},
   "source": [
    "### 3.3. Step 3 — Reflect on the output\n",
    "\n",
    "The goal here is to simulate how a human would review a first draft of a chart—looking for strengths, weaknesses, and areas for improvement.\n",
    "\n",
    "Here’s what happens:\n",
    "\n",
    "**1. Provide the chart to the LLM:**\n",
    "The generated chart (chart_v1.png) is shared with the LLM so it can “see” the visualization.\n",
    "\n",
    "**2. Analyze the chart visually:**\n",
    "The LLM reviews elements like clarity, labeling, accuracy, and overall readability.\n",
    "\n",
    "**3. Generate feedback:**\n",
    "The LLM suggests improvements—for example, fixing axis labels, adjusting the chart type, improving color choices, or highlighting missing legends.\n",
    "\n",
    "By doing this, you create an intelligent feedback loop where the chart is not just produced once, but actively critiqued—setting the stage for a stronger second version (V2)."
   ]
  },
  {
   "cell_type": "code",
   "execution_count": null,
   "id": "84719997",
   "metadata": {
    "height": 1168
   },
   "outputs": [],
   "source": [
    "def reflect_on_image_and_regenerate(\n",
    "    chart_path: str,\n",
    "    instruction: str,\n",
    "    model_name: str,\n",
    "    out_path_v2: str,\n",
    ") -> tuple[str, str]:\n",
    "    \"\"\"\n",
    "    Critique the chart IMAGE against the instruction, then return refined matplotlib code.\n",
    "    Returns (feedback, refined_code_with_tags).\n",
    "    Supports OpenAI and Anthropic (Claude).\n",
    "    \"\"\"\n",
    "    media_type, b64 = utils.encode_image_b64(chart_path)\n",
    "    \n",
    "    prompt = f\"\"\"\n",
    "    You are a data visualization expert. First, critique how well the attached chart communicates \n",
    "    the instruction. Then return improved matplotlib code.\n",
    "\n",
    "    STRICT OUTPUT FORMAT (JSON only):\n",
    "    {{\n",
    "      \"feedback\": \"<brief, specific critique and suggestions>\",\n",
    "      \"refined_code\": \"<ONLY python code, wrapped in <execute_python> tags; assumes df exists; saves to '{out_path_v2}' with dpi=300; NO plt.show(); DO call plt.close() at end>\"\n",
    "    }}\n",
    "\n",
    "    Constraints for the refined code:\n",
    "    - Use pandas/matplotlib only (no seaborn).\n",
    "    - Assume df exists; no file reads.\n",
    "    - Save to '{out_path_v2}' with dpi=300.\n",
    "    - If year/month/quarter are needed and missing, derive them from df['date'] with:\n",
    "      df['date'] = pd.to_datetime(df['date'], errors='coerce')\n",
    "      if 'year' not in df.columns: df['year'] = df['date'].dt.year\n",
    "      if 'month' not in df.columns: df['month'] = df['date'].dt.month\n",
    "      if 'quarter' not in df.columns: df['quarter'] = df['date'].dt.quarter\n",
    "\n",
    "    Schema (columns you may reference):\n",
    "    - date (M/D/YY)\n",
    "    - time (HH:MM)\n",
    "    - cash_type (card or cash)\n",
    "    - card (string)\n",
    "    - price (number)\n",
    "    - coffee_name (string)\n",
    "    - quarter (1-4)\n",
    "    - month (1-12)\n",
    "    - year (YYYY)\n",
    "\n",
    "    Add all necessary import python statements\n",
    "\n",
    "    Instruction:\n",
    "    {instruction}\n",
    "    \"\"\"\n",
    "\n",
    "    lower = model_name.lower()\n",
    "    if \"claude\" in lower or \"anthropic\" in lower:\n",
    "        # ✅ Use the safe helper that joins all text blocks and adds a system prompt\n",
    "        content = utils.image_anthropic_call(model_name, prompt, media_type, b64)\n",
    "    else:\n",
    "        content = utils.image_openai_call(model_name, prompt, media_type, b64)\n",
    "\n",
    "    # Robust JSON parse\n",
    "    try:\n",
    "        obj = json.loads(content)\n",
    "    except Exception:\n",
    "        m = re.search(r\"\\{.*\\}\", content, flags=re.DOTALL)\n",
    "        obj = json.loads(m.group(0)) if m else {\"feedback\": content, \"refined_code\": \"\"}\n",
    "\n",
    "    feedback = str(obj.get(\"feedback\", \"\")).strip()\n",
    "    refined_code = utils.ensure_execute_python_tags(str(obj.get(\"refined_code\", \"\")).strip())\n",
    "    return feedback, refined_code\n"
   ]
  },
  {
   "cell_type": "markdown",
   "id": "57fb31ab",
   "metadata": {},
   "source": [
    "### 3.4. Step 4 — Generate and Execute Improved Version (V2)\n",
    "\n",
    "Final step, it is time to generate and run the new version(v2)."
   ]
  },
  {
   "cell_type": "code",
   "execution_count": null,
   "id": "83240f00",
   "metadata": {
    "height": 182
   },
   "outputs": [],
   "source": [
    "# Generate feedback alongside reflected code\n",
    "feedback, code_v2 = reflect_on_image_and_regenerate(\n",
    "    chart_path=\"chart_v1.png\",            \n",
    "    instruction=\"Give me a breakdown of drink sales by quarter.\",                   \n",
    "    model_name=\"o4-mini\",\n",
    "    out_path_v2=\"chart_v2.png\"             \n",
    ")\n",
    "\n",
    "utils.print_html(feedback, title=\"Feedback on V1 Chart\")\n",
    "utils.print_html(code_v2, title=\"Regenerated Code Output (V2)\")"
   ]
  },
  {
   "cell_type": "code",
   "execution_count": null,
   "id": "c1dad5c4",
   "metadata": {
    "height": 233
   },
   "outputs": [],
   "source": [
    "# Get the code within the <execute_python> tags\n",
    "match = re.search(r\"<execute_python>([\\s\\S]*?)</execute_python>\", code_v2)\n",
    "if match:\n",
    "    reflected_code = match.group(1).strip()\n",
    "    exec_globals = {\"df\": df}\n",
    "    exec(reflected_code, exec_globals)\n",
    "\n",
    "# If code run successfully, the file chart_v2.png should have been generated\n",
    "utils.print_html(\n",
    "    content=\"chart_v2.png\",\n",
    "    title=\"Regenerated Chart (V2)\",\n",
    "    is_image=True\n",
    ")"
   ]
  },
  {
   "cell_type": "markdown",
   "id": "e7061a56d2b26878",
   "metadata": {},
   "source": [
    "### 4. Your end-to-end chart generation workflow\n",
    "\n",
    "Now it’s time to wrap up into a single automated workflow that the agent can run from start to finish.\n",
    "\n",
    "In the `run_workflow` function, you will:\n",
    "\n",
    "* Provide the chart instructions: Define what kind of chart you want to create and what insights it should show.\n",
    "* Choose the models for each step: Specify which LLMs handle generation, reflection, and refinement.\n",
    "\n",
    "This setup gives you the freedom to mix and match different models at various stages of the workflow. By experimenting, you’ll discover which combinations work best for generating accurate, clear, and polished charts."
   ]
  },
  {
   "cell_type": "code",
   "execution_count": null,
   "id": "9f979070",
   "metadata": {
    "height": 998
   },
   "outputs": [],
   "source": [
    "def run_workflow(\n",
    "    dataset_path: str,\n",
    "    user_instructions: str,\n",
    "    generation_model: str,\n",
    "    evaluation_model: str,\n",
    "    image_basename: str = \"chart\",\n",
    "):\n",
    "    \"\"\"\n",
    "    End-to-end pipeline: generate -> execute -> (evaluate + refine) -> execute refined.\n",
    "    Returns a dict with all artifacts (codes, feedback, images).\n",
    "    \"\"\"\n",
    "    # Load dataset (LLM handles derivations like year/quarter)\n",
    "    df = utils.load_and_prepare_data(dataset_path)\n",
    "    utils.print_html(df.sample(n=5), title=\"Random Sample of Dataset\")\n",
    "\n",
    "    # Paths to store charts\n",
    "    out_v1 = f\"{image_basename}_v1.png\"\n",
    "    out_v2 = f\"{image_basename}_v2.png\"\n",
    "\n",
    "    # Step 1: Generate code V1\n",
    "    utils.print_html(\"Step 1: Generating chart code... 📈\\n\")\n",
    "    code_v1 = generate_chart_code(\n",
    "        instruction=user_instructions,\n",
    "        model=generation_model,\n",
    "        out_path_v1=out_v1,\n",
    "    )\n",
    "    utils.print_html(code_v1, title=\"Generated Code Output (V1)\")\n",
    "\n",
    "    # Step 2: Execute V1\n",
    "    utils.print_html(\"Step 2: Executing chart code... 💻\\n\")\n",
    "    match = re.search(r\"<execute_python>([\\s\\S]*?)</execute_python>\", code_v1)\n",
    "    if match:\n",
    "        initial_code = match.group(1).strip()\n",
    "        exec_globals = {\"df\": df}\n",
    "        exec(initial_code, exec_globals)\n",
    "\n",
    "    utils.print_html(out_v1, is_image=True, title=\"Generated Chart (V1)\")\n",
    "\n",
    "    # Step 3: Evaluate + refine\n",
    "    utils.print_html(\"Step 3: Evaluating and refining chart... 🔁\\n\")\n",
    "    feedback, code_v2 = reflect_on_image_and_regenerate(\n",
    "        chart_path=out_v1,\n",
    "        instruction=user_instructions,\n",
    "        model_name=evaluation_model,\n",
    "        out_path_v2=out_v2,\n",
    "    )\n",
    "    utils.print_html(feedback, title=\"Feedback on V1 Chart\")\n",
    "    utils.print_html(code_v2, title=\"Regenerated Code Output (V2)\")\n",
    "\n",
    "    # Step 4: Execute V2\n",
    "    utils.print_html(\"Step 4: Executing refined chart code... 🖼️\\n\")\n",
    "    match = re.search(r\"<execute_python>([\\s\\S]*?)</execute_python>\", code_v2)\n",
    "    if match:\n",
    "        reflected_code = match.group(1).strip()\n",
    "        exec_globals = {\"df\": df}\n",
    "        exec(reflected_code, exec_globals)\n",
    "\n",
    "    utils.print_html(out_v2, is_image=True, title=\"Regenerated Chart (V2)\")"
   ]
  },
  {
   "cell_type": "markdown",
   "id": "ca638afa",
   "metadata": {},
   "source": [
    "### 4.1. Using the workflow with updated instructions\n",
    "\n",
    "Let’s update our workflow to try a new example.\n",
    "\n",
    "- **Previous instruction:** “Give me a breakdown of drink sales by quarter.”\n",
    "- **New instruction:** \"Create a chart showing year-over-year Q1 sales by drink type.\"\n",
    "\n",
    "### Customizing instructions\n",
    "\n",
    "You’re encouraged to experiment with your own chart prompts!\n",
    "When you change the instructions, remember to also update the `image_basename` parameter. This helps keep your saved chart files organized and ensures their filenames reflect the content.\n",
    "\n",
    "By customizing both the instructions and filenames, you can adapt the workflow to many different analyses while keeping your results neat and easy to track.\n",
    "\n",
    "### Available models for generation and evaluation\n",
    "\n",
    "Your workflow lets you choose which models handle chart generation and which handle evaluation. Here are the options:\n",
    "\n",
    "#### Generation models\n",
    "\n",
    "- **gpt-3.5-turbo** – Reliable and versatile for many tasks.\n",
    "- **gpt-4.1-mini** – A lighter version of GPT-4.1, optimized for speed.\n",
    "- **gpt-4.1** – Full-featured GPT-4.1 with strong reasoning capabilities.\n",
    "- **gpt-4o-mini** – Compact and fast, good for quicker experimentation.\n",
    "\n",
    "#### Evaluation models\n",
    "\n",
    "- **o4-mini** – Lightweight and efficient for evaluation.\n",
    "- **claude-3-5-haiku-20241022** – Specialized for concise, precise feedback.\n",
    "- **claude-3-7-sonnet-20250219** – Advanced evaluation model with deeper analysis.\n",
    "\n",
    "Additionally, any of the generation models can also be used for evaluation. This flexibility lets you try different combinations and see how they impact the quality of your charts.\n",
    "\n",
    "Experiment with these models to find different scenarios!\n",
    "\n",
    "**Important note on LLM responses:** LLM outputs are stochastic — meaning that even with the same input and parameters, results can vary each time you run the workflow. This randomness is a feature, not a bug: it allows you to explore multiple possible solutions. For more reliable insights, try running your workflow several times and comparing results."
   ]
  },
  {
   "cell_type": "code",
   "execution_count": null,
   "id": "5963464a",
   "metadata": {
    "height": 250
   },
   "outputs": [],
   "source": [
    "# Here, insert your updates\n",
    "user_instructions=\"Create a chart showing year-over-year Q1 sales by drink type.\"\n",
    "generation_model=\"gpt-4.1\"\n",
    "evaluation_model=\"o4-mini\"\n",
    "image_basename=\"drink_sales\"\n",
    "\n",
    "# Run the complete agentic workflow\n",
    "run_workflow(\n",
    "    dataset_path=\"coffee_sales.csv\",\n",
    "    user_instructions=user_instructions,\n",
    "    generation_model=generation_model,\n",
    "    evaluation_model=evaluation_model,\n",
    "    image_basename=image_basename\n",
    ")"
   ]
  },
  {
   "cell_type": "markdown",
   "id": "8c1c28f3",
   "metadata": {},
   "source": [
    "## 5. Final Takeaways\n",
    "\n",
    "In this lab, **you** practiced using reflection to improve chart outputs.\n",
    "You learned to:\n",
    "\n",
    "* Generate an initial chart (V1).\n",
    "* Critique and refine it into a better version (V2).\n",
    "* Automate the full workflow with different models.\n",
    "\n",
    "The key idea: reflection helps **you** create clearer, more accurate, and more effective visualizations.\n"
   ]
  },
  {
   "cell_type": "markdown",
   "id": "1135a30f",
   "metadata": {},
   "source": [
    "<div style=\"border:1px solid #22c55e; border-left:6px solid #16a34a; background:#dcfce7; border-radius:6px; padding:14px 16px; color:#064e3b; font-family:system-ui,-apple-system,Segoe UI,Roboto,Ubuntu,Cantarell,Noto Sans,sans-serif;\">\n",
    "\n",
    "🎉 <strong>Congratulations!</strong>  \n",
    "\n",
    "You’ve completed the lab on building an **agentic chart generation workflow**.  \n",
    "Along the way, **you** practiced generating charts, reflecting on their quality, and refining them into clearer and more effective visualizations.  \n",
    "\n",
    "With these skills, **you** are ready to design agentic pipelines that create data visualizations automatically while keeping them accurate, explainable, and polished. 🌟  \n",
    "\n",
    "</div>\n",
    "\n"
   ]
  }
 ],
 "metadata": {
  "kernelspec": {
   "display_name": "Python 3 (ipykernel)",
   "language": "python",
   "name": "python3"
  },
  "language_info": {
   "codemirror_mode": {
    "name": "ipython",
    "version": 3
   },
   "file_extension": ".py",
   "mimetype": "text/x-python",
   "name": "python",
   "nbconvert_exporter": "python",
   "pygments_lexer": "ipython3",
   "version": "3.12.7"
  }
 },
 "nbformat": 4,
 "nbformat_minor": 5
}
